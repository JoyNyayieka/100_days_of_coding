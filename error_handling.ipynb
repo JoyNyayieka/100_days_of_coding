{
 "cells": [
  {
   "cell_type": "markdown",
   "id": "f2dc7f6f",
   "metadata": {},
   "source": [
    "Day 8: Error Handling  \n",
    "Learn try/except blocks and common exceptions    \n",
    "Write a program that handles potential errors gracefully         "
   ]
  },
  {
   "cell_type": "code",
   "execution_count": 2,
   "id": "2d375624",
   "metadata": {},
   "outputs": [
    {
     "name": "stdout",
     "output_type": "stream",
     "text": [
      "2.5\n"
     ]
    }
   ],
   "source": [
    "a = 5       #normal statements\n",
    "b = 2\n",
    "\n",
    "print(a/b)      #critical statements-> meaning can get an error"
   ]
  },
  {
   "cell_type": "code",
   "execution_count": 3,
   "id": "ef4b2288",
   "metadata": {},
   "outputs": [
    {
     "name": "stdout",
     "output_type": "stream",
     "text": [
      "5.0\n",
      "This line will be executed\n"
     ]
    }
   ],
   "source": [
    "a = 10      \n",
    "b = 2\n",
    "\n",
    "print(a/b) \n",
    "print('This line will be executed')"
   ]
  },
  {
   "cell_type": "code",
   "execution_count": 4,
   "id": "891c8c92",
   "metadata": {},
   "outputs": [
    {
     "ename": "ZeroDivisionError",
     "evalue": "division by zero",
     "output_type": "error",
     "traceback": [
      "\u001b[31m---------------------------------------------------------------------------\u001b[39m",
      "\u001b[31mZeroDivisionError\u001b[39m                         Traceback (most recent call last)",
      "\u001b[36mCell\u001b[39m\u001b[36m \u001b[39m\u001b[32mIn[4]\u001b[39m\u001b[32m, line 4\u001b[39m\n\u001b[32m      1\u001b[39m a = \u001b[32m20\u001b[39m\n\u001b[32m      2\u001b[39m b = \u001b[32m0\u001b[39m  \n\u001b[32m----> \u001b[39m\u001b[32m4\u001b[39m \u001b[38;5;28mprint\u001b[39m(\u001b[43ma\u001b[49m\u001b[43m/\u001b[49m\u001b[43mb\u001b[49m)\n\u001b[32m      5\u001b[39m \u001b[38;5;28mprint\u001b[39m(\u001b[33m'\u001b[39m\u001b[33mThis statement will not get to be executed\u001b[39m\u001b[33m'\u001b[39m)\n",
      "\u001b[31mZeroDivisionError\u001b[39m: division by zero"
     ]
    }
   ],
   "source": [
    "a = 20\n",
    "b = 0  \n",
    "\n",
    "print(a/b)\n",
    "print('This statement will not get to be executed')"
   ]
  },
  {
   "cell_type": "code",
   "execution_count": 5,
   "id": "8d075fa7",
   "metadata": {},
   "outputs": [
    {
     "name": "stdout",
     "output_type": "stream",
     "text": [
      "You cannot divide a number by 0\n",
      "This statement will be executed\n"
     ]
    }
   ],
   "source": [
    "a = 25\n",
    "b = 0\n",
    "\n",
    "try:\n",
    "    print(a/b)  #because this is a critical statement, not sure whether it will work, use the try/except block\n",
    "except Exception:\n",
    "    print('You cannot divide a number by 0')\n",
    "\n",
    "print('This statement will be executed')"
   ]
  },
  {
   "cell_type": "code",
   "execution_count": null,
   "id": "191879a5",
   "metadata": {},
   "outputs": [
    {
     "name": "stdout",
     "output_type": "stream",
     "text": [
      "An excception occurred, division by zero\n"
     ]
    }
   ],
   "source": [
    "def divide(x, y):\n",
    "    try:\n",
    "        print(x/y)\n",
    "    except Exception as e: #can check which error is occurring\n",
    "        print('An excception occurred,', e)\n",
    "\n",
    "divide(10, 0)"
   ]
  },
  {
   "cell_type": "markdown",
   "id": "4b1cc828",
   "metadata": {},
   "source": [
    "try:\n",
    "    # Some Code \n",
    "except:  \n",
    "    # Executed if error in the  \n",
    "    # try block  \n",
    "else:  \n",
    "    # execute if no exception"
   ]
  },
  {
   "cell_type": "code",
   "execution_count": 13,
   "id": "3b907854",
   "metadata": {},
   "outputs": [
    {
     "name": "stdout",
     "output_type": "stream",
     "text": [
      "-5.0\n",
      "a/b result in 0\n"
     ]
    }
   ],
   "source": [
    "def operation(a, b):\n",
    "    try:\n",
    "        c = ((a+b) // (a-b))\n",
    "    except Exception:\n",
    "        print (\"a/b result in 0\")\n",
    "    else:\n",
    "        print (c)\n",
    " \n",
    "operation(2.0, 3.0)\n",
    "operation(3.0, 3.0)"
   ]
  },
  {
   "cell_type": "code",
   "execution_count": 12,
   "id": "414c98a3",
   "metadata": {},
   "outputs": [
    {
     "name": "stdout",
     "output_type": "stream",
     "text": [
      "An exception occurred division by zero\n",
      "This statement is always printed\n"
     ]
    }
   ],
   "source": [
    "#finally keyword\n",
    "def divide(a, b):\n",
    "    try:\n",
    "        print(a/b)\n",
    "    except Exception as e:\n",
    "        print('An exception occurred', e)\n",
    "    finally:     #this block is always executed regardless of the exception output\n",
    "        print('This statement is always printed')\n",
    "\n",
    "divide(5, 0)"
   ]
  }
 ],
 "metadata": {
  "kernelspec": {
   "display_name": "Python 3",
   "language": "python",
   "name": "python3"
  },
  "language_info": {
   "codemirror_mode": {
    "name": "ipython",
    "version": 3
   },
   "file_extension": ".py",
   "mimetype": "text/x-python",
   "name": "python",
   "nbconvert_exporter": "python",
   "pygments_lexer": "ipython3",
   "version": "3.13.0"
  }
 },
 "nbformat": 4,
 "nbformat_minor": 5
}
