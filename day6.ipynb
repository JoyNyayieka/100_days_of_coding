{
 "cells": [
  {
   "cell_type": "markdown",
   "id": "4aa970b2",
   "metadata": {},
   "source": [
    "Day 6: Control Flow - Loops          \n",
    "Learn for and while loops        \n",
    "Write a program that processes a list of numbers using loops to calculate statistics       "
   ]
  },
  {
   "cell_type": "code",
   "execution_count": 3,
   "id": "6a8c21d9",
   "metadata": {},
   "outputs": [
    {
     "name": "stdout",
     "output_type": "stream",
     "text": [
      "Methusela 9\n",
      "Brian 5\n",
      "Quinter 7\n",
      "Mordecai 8\n"
     ]
    }
   ],
   "source": [
    "#for loop to measure some strings\n",
    "names = ['Methusela', 'Brian', 'Quinter','Mordecai']\n",
    "for x in names:\n",
    "    print(x, len(x))"
   ]
  },
  {
   "cell_type": "code",
   "execution_count": 4,
   "id": "ddedf08b",
   "metadata": {},
   "outputs": [
    {
     "name": "stdout",
     "output_type": "stream",
     "text": [
      "1\n",
      "2\n",
      "3\n",
      "4\n",
      "5\n"
     ]
    }
   ],
   "source": [
    "#while statement\n",
    "i = 1\n",
    "while i < 6:\n",
    "    print(i)\n",
    "    i += 1\n",
    " "
   ]
  },
  {
   "cell_type": "code",
   "execution_count": 6,
   "id": "225fce98",
   "metadata": {},
   "outputs": [
    {
     "name": "stdout",
     "output_type": "stream",
     "text": [
      "1\n",
      "2\n",
      "3\n"
     ]
    }
   ],
   "source": [
    "#break statement\n",
    "i = 1\n",
    "while i < 6:\n",
    "    print(i)\n",
    "    if i == 3:\n",
    "        break \n",
    "    i += 1"
   ]
  },
  {
   "cell_type": "code",
   "execution_count": 8,
   "id": "3f30d4c9",
   "metadata": {},
   "outputs": [
    {
     "name": "stdout",
     "output_type": "stream",
     "text": [
      "1\n",
      "2\n",
      "4\n",
      "5\n",
      "6\n"
     ]
    }
   ],
   "source": [
    "#continue\n",
    "i = 0\n",
    "while i < 6:\n",
    "    i += 1\n",
    "    if i == 3:\n",
    "        continue\n",
    "    print(i)"
   ]
  },
  {
   "cell_type": "code",
   "execution_count": 10,
   "id": "17e3f831",
   "metadata": {},
   "outputs": [
    {
     "name": "stdout",
     "output_type": "stream",
     "text": [
      "1\n",
      "2\n",
      "3\n",
      "4\n",
      "5\n",
      "6\n",
      "i is no longer less than 6\n"
     ]
    }
   ],
   "source": [
    "#else \n",
    "i = 0\n",
    "while i < 6:\n",
    "    i += 1\n",
    "    print(i)\n",
    "else:\n",
    "    print('i is no longer less than 6')"
   ]
  },
  {
   "cell_type": "code",
   "execution_count": 1,
   "id": "df455b97",
   "metadata": {},
   "outputs": [
    {
     "name": "stdout",
     "output_type": "stream",
     "text": [
      "Sum: 150\n",
      "Average: 30.0\n",
      "Smallest: 10\n",
      "Largest: 50\n"
     ]
    }
   ],
   "source": [
    "#Write a program that processes a list of numbers using loops to calculate statistics\n",
    "numbers = [10, 20, 30, 40, 50]\n",
    "\n",
    "total = 0\n",
    "smallest = numbers[0]\n",
    "largest = numbers[0]\n",
    "\n",
    "for num in numbers:\n",
    "    total += num\n",
    "    if num < smallest:\n",
    "        smallest = num\n",
    "    if num > largest:\n",
    "        largest = num\n",
    "\n",
    "average = total / len(numbers)\n",
    "\n",
    "print(\"Sum:\", total)\n",
    "print(\"Average:\", average)\n",
    "print(\"Smallest:\", smallest)\n",
    "print(\"Largest:\", largest)\n"
   ]
  }
 ],
 "metadata": {
  "kernelspec": {
   "display_name": "Python 3",
   "language": "python",
   "name": "python3"
  },
  "language_info": {
   "codemirror_mode": {
    "name": "ipython",
    "version": 3
   },
   "file_extension": ".py",
   "mimetype": "text/x-python",
   "name": "python",
   "nbconvert_exporter": "python",
   "pygments_lexer": "ipython3",
   "version": "3.13.0"
  }
 },
 "nbformat": 4,
 "nbformat_minor": 5
}
