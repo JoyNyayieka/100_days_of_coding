{
 "cells": [
  {
   "cell_type": "markdown",
   "id": "4f3f0d74",
   "metadata": {},
   "source": [
    "Day 9: File Operations         \n",
    "Learn reading from and writing to files            \n",
    "Write a program that reads data from a file, processes it, and writes results to another files          "
   ]
  },
  {
   "cell_type": "markdown",
   "id": "79cd1098",
   "metadata": {},
   "source": [
    "R = Read  \n",
    "A = Append  \n",
    "W = Write   \n",
    "X = Create  "
   ]
  },
  {
   "cell_type": "code",
   "execution_count": null,
   "id": "0aaec5b3",
   "metadata": {},
   "outputs": [
    {
     "name": "stdout",
     "output_type": "stream",
     "text": [
      "This is input line 1, the first line\n",
      "This is input line 2\n",
      "This is input line 3\n",
      "This is input line 4\n",
      "This is input line 5, the final line\n",
      "\n"
     ]
    }
   ],
   "source": [
    "#Read\n",
    "f = open(\"input.txt\")\n",
    "print(f.read())"
   ]
  },
  {
   "cell_type": "code",
   "execution_count": 12,
   "id": "2b774865",
   "metadata": {},
   "outputs": [
    {
     "name": "stdout",
     "output_type": "stream",
     "text": [
      "This is input line 1, the first line\n",
      "\n",
      "This is input line 2\n",
      "\n"
     ]
    }
   ],
   "source": [
    "f = open(\"input.txt\")\n",
    "print(f.readline())\n",
    "print(f.readline())"
   ]
  },
  {
   "cell_type": "code",
   "execution_count": 14,
   "id": "ff6fb131",
   "metadata": {},
   "outputs": [],
   "source": [
    "f.close()  #important to close a file "
   ]
  },
  {
   "cell_type": "code",
   "execution_count": 16,
   "id": "cc6e7d9b",
   "metadata": {},
   "outputs": [
    {
     "name": "stdout",
     "output_type": "stream",
     "text": [
      "The file you selected does not exist.\n"
     ]
    }
   ],
   "source": [
    "try:\n",
    "    f = open(\"names.txt\")\n",
    "    print(f.read())\n",
    "except:\n",
    "    print(\"The file you selected does not exist.\")\n",
    "finally:\n",
    "    f.close()"
   ]
  },
  {
   "cell_type": "markdown",
   "id": "83ec596a",
   "metadata": {},
   "source": [
    "Append - creates the file if it doesn't exist"
   ]
  },
  {
   "cell_type": "code",
   "execution_count": 27,
   "id": "25fe7db5",
   "metadata": {},
   "outputs": [],
   "source": [
    "b = open(\"input.txt\", \"a\")\n",
    "b.write(\"This is the appended line\\n\")\n",
    "b.close()"
   ]
  },
  {
   "cell_type": "code",
   "execution_count": 28,
   "id": "9ccfb8bf",
   "metadata": {},
   "outputs": [
    {
     "name": "stdout",
     "output_type": "stream",
     "text": [
      "This is input line 1, the first line\n",
      "This is input line 2\n",
      "This is input line 3\n",
      "This is input line 4\n",
      "This is input line 5, the final lineThis is the appended lineThis is the appended lineThis is the appended lineThis is the appended line\n",
      "\n",
      "None\n"
     ]
    }
   ],
   "source": [
    "b = open(\"input.txt\")\n",
    "print(b.read())\n",
    "print(b.close())"
   ]
  },
  {
   "cell_type": "code",
   "execution_count": 25,
   "id": "9dd7b90a",
   "metadata": {},
   "outputs": [],
   "source": [
    "#Write - overwrite\n",
    "f = open(\"output.txt\", \"w\")\n",
    "f.write(\"Deleted all the statements\")\n",
    "f.close()"
   ]
  },
  {
   "cell_type": "code",
   "execution_count": 26,
   "id": "b1872189",
   "metadata": {},
   "outputs": [
    {
     "name": "stdout",
     "output_type": "stream",
     "text": [
      "Deleted all the statements\n",
      "None\n"
     ]
    }
   ],
   "source": [
    "f = open(\"output.txt\")\n",
    "print(f.read())\n",
    "print(f.close())"
   ]
  },
  {
   "cell_type": "code",
   "execution_count": 29,
   "id": "2541ce1d",
   "metadata": {},
   "outputs": [],
   "source": [
    "#Opens a file for writing, creates the file if it does not exist\n",
    "f = open(\"input2.txt\", \"w\")\n",
    "f.close()"
   ]
  },
  {
   "cell_type": "markdown",
   "id": "5b11dd48",
   "metadata": {},
   "source": [
    "Read data from input.txt, convert each line to uppercase, and write to output.txt"
   ]
  },
  {
   "cell_type": "code",
   "execution_count": 40,
   "id": "531bd5a3",
   "metadata": {},
   "outputs": [
    {
     "name": "stdout",
     "output_type": "stream",
     "text": [
      "THIS IS INPUT LINE 2\n",
      "THIS IS INPUT LINE 3\n",
      "THIS IS INPUT LINE 4\n",
      "THIS IS INPUT LINE 5, THE FINAL LINETHIS IS THE APPENDED LINETHIS IS THE APPENDED LINETHIS IS THE APPENDED LINETHIS IS THE APPENDED LINE\n",
      "\n"
     ]
    }
   ],
   "source": [
    "#Read from a file\n",
    "a = open(\"input.txt\", \"r\")\n",
    "a.readline()\n",
    "\n",
    "#Processing the data\n",
    "processed_data = [line.upper() for line in a]\n",
    "\n",
    "#Writing to another file\n",
    "b = open(\"input2.txt\", \"w\")\n",
    "b.writelines(processed_data)\n",
    "\n",
    "c = open(\"input2.txt\", \"r\")\n",
    "contents = c.read()\n",
    "print(contents)"
   ]
  }
 ],
 "metadata": {
  "kernelspec": {
   "display_name": "Python 3",
   "language": "python",
   "name": "python3"
  },
  "language_info": {
   "codemirror_mode": {
    "name": "ipython",
    "version": 3
   },
   "file_extension": ".py",
   "mimetype": "text/x-python",
   "name": "python",
   "nbconvert_exporter": "python",
   "pygments_lexer": "ipython3",
   "version": "3.13.0"
  }
 },
 "nbformat": 4,
 "nbformat_minor": 5
}
