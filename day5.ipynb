{
 "cells": [
  {
   "cell_type": "markdown",
   "id": "798eeae5",
   "metadata": {},
   "source": [
    "Day 5: Control Flow - Conditionals           \n",
    " Learn if, elif, else statements         \n",
    " Write a program that makes decisions based on user input or data values          "
   ]
  },
  {
   "cell_type": "code",
   "execution_count": 7,
   "id": "ca442c7d",
   "metadata": {},
   "outputs": [
    {
     "name": "stdout",
     "output_type": "stream",
     "text": [
      "43 is odd\n"
     ]
    }
   ],
   "source": [
    "#if else statement\n",
    "number = int(input('Enter a number: '))\n",
    "if number % 2 ==0:\n",
    "    print(f'{number} is an even number')\n",
    "else:\n",
    "    print(f'{number} is odd')"
   ]
  },
  {
   "cell_type": "code",
   "execution_count": 9,
   "id": "637664a1",
   "metadata": {},
   "outputs": [
    {
     "name": "stdout",
     "output_type": "stream",
     "text": [
      "20 is a positive number\n"
     ]
    }
   ],
   "source": [
    "#elif statment\n",
    "number = int(input('Enter a number'))\n",
    "\n",
    "if number < 0:\n",
    "    print(f'{number} is a negative number')\n",
    "elif number ==0:\n",
    "    print(f'{number} is 0')\n",
    "else: \n",
    "    print(f'{number} is a positive number')"
   ]
  },
  {
   "cell_type": "markdown",
   "id": "c8e576ec",
   "metadata": {},
   "source": [
    "#bmi calculator   \n",
    "underweight < 18.5             \n",
    "normal weight - 18.5-24.9                \n",
    "overweight - 25.0-29.9       \n",
    "obese - 30.0 and above       "
   ]
  },
  {
   "cell_type": "code",
   "execution_count": null,
   "id": "7faf7223",
   "metadata": {},
   "outputs": [
    {
     "name": "stdout",
     "output_type": "stream",
     "text": [
      "Patient is obese\n"
     ]
    }
   ],
   "source": [
    "bmi = float(input('Enter your bmi: '))\n",
    "\n",
    "if bmi < 18.5:\n",
    "    print('Patient is underweight')\n",
    "elif bmi <= 24.9:\n",
    "    print('Patient has normal weight')\n",
    "elif bmi <= 29.9:\n",
    "    print('Patient is overweight')\n",
    "else:\n",
    "    print('Patient is obese.')"
   ]
  }
 ],
 "metadata": {
  "kernelspec": {
   "display_name": "Python 3",
   "language": "python",
   "name": "python3"
  },
  "language_info": {
   "codemirror_mode": {
    "name": "ipython",
    "version": 3
   },
   "file_extension": ".py",
   "mimetype": "text/x-python",
   "name": "python",
   "nbconvert_exporter": "python",
   "pygments_lexer": "ipython3",
   "version": "3.13.0"
  }
 },
 "nbformat": 4,
 "nbformat_minor": 5
}
