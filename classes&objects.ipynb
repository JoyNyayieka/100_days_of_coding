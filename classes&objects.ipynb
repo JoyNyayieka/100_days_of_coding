{
 "cells": [
  {
   "cell_type": "markdown",
   "id": "a80abc75",
   "metadata": {},
   "source": [
    "Object-Oriented Programming 1  \n",
    "Learn classes, objects, attributes and methods  \n",
    "Write a program that defines a class and creates instances to model real-world entities   "
   ]
  },
  {
   "cell_type": "code",
   "execution_count": 17,
   "id": "79edca35",
   "metadata": {},
   "outputs": [
    {
     "name": "stdout",
     "output_type": "stream",
     "text": [
      "Joan\n",
      "Nairobi Academy\n",
      "Walking...\n"
     ]
    }
   ],
   "source": [
    "class Person:\n",
    "    def __init__(self, name, age, school):\n",
    "        self.name = name\n",
    "        self.age = age\n",
    "        self.school = school \n",
    "    \n",
    "    def walk(self):\n",
    "        print(\"Walking...\")    \n",
    "        \n",
    "user1 = Person(\"Joan\", \"12\", \"Kiota School\")\n",
    "user2 = Person(\"Apondi\", \"10\", \"Nairobi Academy\")\n",
    "\n",
    "print(user1.name)\n",
    "print(user2.school)\n",
    "\n",
    "user1.walk()"
   ]
  },
  {
   "cell_type": "code",
   "execution_count": 18,
   "id": "036ebe09",
   "metadata": {},
   "outputs": [
    {
     "name": "stdout",
     "output_type": "stream",
     "text": [
      "Warrior speed: 30\n",
      "Ninja speed: 40\n",
      "Warrior speed: 60\n",
      "Ninja speed: 40\n"
     ]
    }
   ],
   "source": [
    "class Character:\n",
    "    def __init__(self, health, damage, speed):\n",
    "        self.health = health\n",
    "        self.damage = damage\n",
    "        self.speed = speed\n",
    "        \n",
    "    def double_speed(self):\n",
    "        self.speed *= 2\n",
    "                 \n",
    "warrior = Character(10, 20, 30)\n",
    "ninja = Character(20, 30, 40)\n",
    "\n",
    "print(f\"Warrior speed: {warrior.speed}\")\n",
    "print(f\"Ninja speed: {ninja.speed}\")\n",
    "warrior.double_speed()\n",
    "print(f\"Warrior speed: {warrior.speed}\")\n",
    "print(f\"Ninja speed: {ninja.speed}\")\n",
    "\n",
    "        "
   ]
  },
  {
   "cell_type": "code",
   "execution_count": 19,
   "id": "38060edf",
   "metadata": {},
   "outputs": [
    {
     "name": "stdout",
     "output_type": "stream",
     "text": [
      "Volvo\n",
      "Diesel\n",
      "Driving Volvo for 10 km on Diesel\n",
      "Testing...\n"
     ]
    }
   ],
   "source": [
    "class Car:\n",
    "    def __init__(self, brand: str, fuel_type: str):\n",
    "        self.brand = brand\n",
    "        self.fuel_type = fuel_type\n",
    "        \n",
    "    def drive(self, distance: float):\n",
    "        print(f\"Driving {self.brand} for {distance} km on {self.fuel_type}\")\n",
    "        \n",
    "    @staticmethod    #does not rely on the instance, no 'self'\n",
    "    def test():\n",
    "        print(\"Testing...\")\n",
    "        \n",
    "volvo: Car = Car(brand='Volvo', fuel_type='Diesel')\n",
    "bmw: Car = Car(brand='BMW', fuel_type='Electric')\n",
    "\n",
    "print(volvo.brand)\n",
    "print(volvo.fuel_type)\n",
    "volvo.drive(distance=10)\n",
    "\n",
    "Car.test()"
   ]
  },
  {
   "cell_type": "code",
   "execution_count": 10,
   "id": "b282d167",
   "metadata": {},
   "outputs": [
    {
     "name": "stdout",
     "output_type": "stream",
     "text": [
      "BMW\n",
      "Electric\n",
      "Driving BMW for 30 km on Electric\n"
     ]
    }
   ],
   "source": [
    "print(bmw.brand)\n",
    "print(bmw.fuel_type)\n",
    "bmw.drive(distance=30)"
   ]
  },
  {
   "cell_type": "markdown",
   "id": "8260a03c",
   "metadata": {},
   "source": [
    "self -> used when you want to use the data from the instance, in the example above, volvo & bmw  "
   ]
  }
 ],
 "metadata": {
  "kernelspec": {
   "display_name": ".venv",
   "language": "python",
   "name": "python3"
  },
  "language_info": {
   "codemirror_mode": {
    "name": "ipython",
    "version": 3
   },
   "file_extension": ".py",
   "mimetype": "text/x-python",
   "name": "python",
   "nbconvert_exporter": "python",
   "pygments_lexer": "ipython3",
   "version": "3.13.0"
  }
 },
 "nbformat": 4,
 "nbformat_minor": 5
}
