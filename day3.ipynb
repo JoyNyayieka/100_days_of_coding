{
 "cells": [
  {
   "cell_type": "markdown",
   "id": "75166a8f",
   "metadata": {},
   "source": [
    " Day 3: Lists and List Operations               \n",
    " Learn to create, access, and modify lists                 \n",
    " Write a program that creates a to-do list where items can be added, removed, and displayed"
   ]
  },
  {
   "cell_type": "code",
   "execution_count": 2,
   "id": "839f01d4",
   "metadata": {},
   "outputs": [
    {
     "data": {
      "text/plain": [
       "['watermelon', 'banana', 'orange', 'banana', 'apple']"
      ]
     },
     "execution_count": 2,
     "metadata": {},
     "output_type": "execute_result"
    }
   ],
   "source": [
    "fruits = ['watermelon', 'banana', 'orange', 'banana', 'apple']\n",
    "fruits"
   ]
  },
  {
   "cell_type": "code",
   "execution_count": 4,
   "id": "e8808509",
   "metadata": {},
   "outputs": [
    {
     "data": {
      "text/plain": [
       "['watermelon', 'banana', 'orange', 'banana', 'apple', 'cherries', 'cherries']"
      ]
     },
     "execution_count": 4,
     "metadata": {},
     "output_type": "execute_result"
    }
   ],
   "source": [
    "fruits.append('cherries')\n",
    "fruits"
   ]
  },
  {
   "cell_type": "code",
   "execution_count": 6,
   "id": "eb6a8642",
   "metadata": {},
   "outputs": [
    {
     "data": {
      "text/plain": [
       "2"
      ]
     },
     "execution_count": 6,
     "metadata": {},
     "output_type": "execute_result"
    }
   ],
   "source": [
    "fruits.count('banana')"
   ]
  },
  {
   "cell_type": "code",
   "execution_count": 9,
   "id": "9440715b",
   "metadata": {},
   "outputs": [
    {
     "data": {
      "text/plain": [
       "2"
      ]
     },
     "execution_count": 9,
     "metadata": {},
     "output_type": "execute_result"
    }
   ],
   "source": [
    "fruits.index('orange')"
   ]
  },
  {
   "cell_type": "code",
   "execution_count": 10,
   "id": "7012719c",
   "metadata": {},
   "outputs": [
    {
     "data": {
      "text/plain": [
       "['watermelon', 'banana', 'orange', 'banana', 'apple', 'cherries', 'cherries']"
      ]
     },
     "execution_count": 10,
     "metadata": {},
     "output_type": "execute_result"
    }
   ],
   "source": [
    "fruits.copy()"
   ]
  },
  {
   "cell_type": "code",
   "execution_count": 12,
   "id": "8c8ef1d5",
   "metadata": {},
   "outputs": [
    {
     "data": {
      "text/plain": [
       "'apple'"
      ]
     },
     "execution_count": 12,
     "metadata": {},
     "output_type": "execute_result"
    }
   ],
   "source": [
    "fruits.pop(4)"
   ]
  },
  {
   "cell_type": "code",
   "execution_count": 13,
   "id": "7d115380",
   "metadata": {},
   "outputs": [
    {
     "data": {
      "text/plain": [
       "['watermelon', 'banana', 'orange', 'banana', 'cherries', 'cherries']"
      ]
     },
     "execution_count": 13,
     "metadata": {},
     "output_type": "execute_result"
    }
   ],
   "source": [
    "fruits"
   ]
  },
  {
   "cell_type": "code",
   "execution_count": 14,
   "id": "5068b986",
   "metadata": {},
   "outputs": [
    {
     "data": {
      "text/plain": [
       "['watermelon', 'banana', 'orange', 'banana', 'apple', 'cherries', 'cherries']"
      ]
     },
     "execution_count": 14,
     "metadata": {},
     "output_type": "execute_result"
    }
   ],
   "source": [
    "fruits.insert(4, 'apple')\n",
    "fruits"
   ]
  },
  {
   "cell_type": "markdown",
   "id": "889ddc39",
   "metadata": {},
   "source": [
    "Create a to-do list where items can be added, removed, displayed"
   ]
  },
  {
   "cell_type": "code",
   "execution_count": 18,
   "id": "ac532a17",
   "metadata": {},
   "outputs": [
    {
     "data": {
      "text/plain": [
       "['Calculus Assignment', 'Project Management certification', 'Play tennis']"
      ]
     },
     "execution_count": 18,
     "metadata": {},
     "output_type": "execute_result"
    }
   ],
   "source": [
    "to_do_list = ['Calculus Assignment', 'Project Management certification', 'Play tennis'] #created\n",
    "to_do_list"
   ]
  },
  {
   "cell_type": "code",
   "execution_count": 19,
   "id": "646b750c",
   "metadata": {},
   "outputs": [
    {
     "data": {
      "text/plain": [
       "['Calculus Assignment',\n",
       " 'Project Management certification',\n",
       " 'Play tennis',\n",
       " '1 hour of #100 days of coding']"
      ]
     },
     "execution_count": 19,
     "metadata": {},
     "output_type": "execute_result"
    }
   ],
   "source": [
    "to_do_list.append('1 hour of #100 days of coding') #added\n",
    "to_do_list"
   ]
  },
  {
   "cell_type": "code",
   "execution_count": 20,
   "id": "65bffd0b",
   "metadata": {},
   "outputs": [
    {
     "data": {
      "text/plain": [
       "['Calculus Assignment', 'Play tennis', '1 hour of #100 days of coding']"
      ]
     },
     "execution_count": 20,
     "metadata": {},
     "output_type": "execute_result"
    }
   ],
   "source": [
    "to_do_list.remove('Project Management certification')  #removed\n",
    "to_do_list"
   ]
  },
  {
   "cell_type": "code",
   "execution_count": 21,
   "id": "d9a98c82",
   "metadata": {},
   "outputs": [
    {
     "data": {
      "text/plain": [
       "['Calculus Assignment', 'Play tennis', '1 hour of #100 days of coding']"
      ]
     },
     "execution_count": 21,
     "metadata": {},
     "output_type": "execute_result"
    }
   ],
   "source": [
    "to_do_list.copy() #displayed"
   ]
  }
 ],
 "metadata": {
  "kernelspec": {
   "display_name": "Python 3",
   "language": "python",
   "name": "python3"
  },
  "language_info": {
   "codemirror_mode": {
    "name": "ipython",
    "version": 3
   },
   "file_extension": ".py",
   "mimetype": "text/x-python",
   "name": "python",
   "nbconvert_exporter": "python",
   "pygments_lexer": "ipython3",
   "version": "3.13.0"
  }
 },
 "nbformat": 4,
 "nbformat_minor": 5
}
