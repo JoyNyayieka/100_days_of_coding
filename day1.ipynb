{
 "cells": [
  {
   "cell_type": "code",
   "execution_count": null,
   "id": "96e75bae",
   "metadata": {},
   "outputs": [],
   "source": [
    " # Learn about variables, data types, and basic operations\n",
    " # Write a program that uses variables of different types and performs basic calculations"
   ]
  },
  {
   "cell_type": "code",
   "execution_count": 1,
   "id": "194a7d2f",
   "metadata": {},
   "outputs": [
    {
     "data": {
      "text/plain": [
       "15"
      ]
     },
     "execution_count": 1,
     "metadata": {},
     "output_type": "execute_result"
    }
   ],
   "source": [
    "a = 10\n",
    "b = 5\n",
    "y = a + b\n",
    "y"
   ]
  },
  {
   "cell_type": "code",
   "execution_count": 2,
   "id": "d06b0664",
   "metadata": {},
   "outputs": [
    {
     "data": {
      "text/plain": [
       "5.0"
      ]
     },
     "execution_count": 2,
     "metadata": {},
     "output_type": "execute_result"
    }
   ],
   "source": [
    "a = 10.0 \n",
    "b = 5\n",
    "y = a - b\n",
    "y"
   ]
  },
  {
   "cell_type": "code",
   "execution_count": 4,
   "id": "317dc1af",
   "metadata": {},
   "outputs": [
    {
     "data": {
      "text/plain": [
       "'I am coming home open the gate'"
      ]
     },
     "execution_count": 4,
     "metadata": {},
     "output_type": "execute_result"
    }
   ],
   "source": [
    "a = \"I am coming home\"\n",
    "b = \"open the gate\"\n",
    "z = a + \" \" + b\n",
    "z"
   ]
  },
  {
   "cell_type": "code",
   "execution_count": 6,
   "id": "6d4471e5",
   "metadata": {},
   "outputs": [
    {
     "data": {
      "text/plain": [
       "0"
      ]
     },
     "execution_count": 6,
     "metadata": {},
     "output_type": "execute_result"
    }
   ],
   "source": [
    "a = 100\n",
    "b = 2\n",
    "x = a % b #modulus\n",
    "x"
   ]
  },
  {
   "cell_type": "markdown",
   "id": "26478deb",
   "metadata": {},
   "source": [
    "PEP8 Rules \n",
    "1. Indentation: Use 4 spaces per indentation level.\n",
    "2. Line Length: Limit lines to a maximum of 79 characters (72 for comments/docstrings). \n",
    "3. Blank Lines: Separate top-level functions and classes with two blank lines, and use single blank lines within functions to separate logical sections.\n",
    "4. Imports: Place import statements at the beginning of the file, grouped by standard library, third-party libraries, and local imports, each group separated by a blank line.\n",
    "5. Naming Conventions:      \n",
    "    Use snake\\_case for variables, functions, and modules.          \n",
    "    Use CamelCase for classes.             \n",
    "    Use ALL\\_CAPS for constants.            \n",
    "6. Comments: Write clear and concise comments to explain non-obvious code, and keep them updated with code changes.\n",
    "7. Whitespace: Use spaces around operators and after commas, but not inside parentheses or before commas.\n",
    "8. Docstrings: Write docstrings for all public modules, functions, classes, and methods, following the conventions outlined in PEP 257.\n",
    "9. Quotes: Use single or double quotes consistently within a project.\n",
    "10. Trailing Commas: Trailing commas are acceptable in multiline constructs.\n",
    "11. Avoid Extraneous Whitespace: Do not add spaces at the end of lines."
   ]
  },
  {
   "cell_type": "code",
   "execution_count": 7,
   "id": "98bb122a",
   "metadata": {},
   "outputs": [
    {
     "data": {
      "text/plain": [
       "'This is camel case.'"
      ]
     },
     "execution_count": 7,
     "metadata": {},
     "output_type": "execute_result"
    }
   ],
   "source": [
    "my_variable = \"This is camel case.\"\n",
    "my_variable"
   ]
  },
  {
   "cell_type": "code",
   "execution_count": 9,
   "id": "ff784e4d",
   "metadata": {},
   "outputs": [
    {
     "name": "stdout",
     "output_type": "stream",
     "text": [
      "Area of circle:  153.86\n"
     ]
    }
   ],
   "source": [
    "PI = 3.14\n",
    "\n",
    "def calculate_circle_area(radius):\n",
    "    return PI * radius * radius\n",
    "\n",
    "print(\"Area of circle: \",calculate_circle_area(7))\n"
   ]
  }
 ],
 "metadata": {
  "kernelspec": {
   "display_name": "Python 3",
   "language": "python",
   "name": "python3"
  },
  "language_info": {
   "codemirror_mode": {
    "name": "ipython",
    "version": 3
   },
   "file_extension": ".py",
   "mimetype": "text/x-python",
   "name": "python",
   "nbconvert_exporter": "python",
   "pygments_lexer": "ipython3",
   "version": "3.13.0"
  }
 },
 "nbformat": 4,
 "nbformat_minor": 5
}
