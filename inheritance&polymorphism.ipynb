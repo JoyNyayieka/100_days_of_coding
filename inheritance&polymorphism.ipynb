{
 "cells": [
  {
   "cell_type": "markdown",
   "id": "33819d5d",
   "metadata": {},
   "source": [
    "Day 14: Inheritance and Polymorphism  \n",
    "Write a program that uses inheritance to create specialized classes  "
   ]
  },
  {
   "cell_type": "code",
   "execution_count": 11,
   "id": "810d1de6",
   "metadata": {},
   "outputs": [],
   "source": [
    "#Inheritance\n",
    "\n",
    "class A:\n",
    "    def feature1(self):\n",
    "        print(\"Feature 1 working\")\n",
    "    def feature2(self):\n",
    "        print(\"Feature 2 working\")\n",
    "        \n",
    "class B:                       #super class/parent class\n",
    "    def feature3(self):\n",
    "        print(\"Feauture 3 working\")\n",
    "    def feature4(self):\n",
    "        print(\"Feature 4 working\")"
   ]
  },
  {
   "cell_type": "code",
   "execution_count": 4,
   "id": "22e1113e",
   "metadata": {},
   "outputs": [],
   "source": [
    "b = B()"
   ]
  },
  {
   "cell_type": "code",
   "execution_count": 6,
   "id": "4ac32e13",
   "metadata": {},
   "outputs": [
    {
     "name": "stdout",
     "output_type": "stream",
     "text": [
      "Feauture 3 working\n"
     ]
    }
   ],
   "source": [
    "b.feature3()"
   ]
  },
  {
   "cell_type": "code",
   "execution_count": 12,
   "id": "1a381285",
   "metadata": {},
   "outputs": [],
   "source": [
    "#Multi level inheritance\n",
    "class C(B):                        #sub class/child class\n",
    "    def feature5(self):\n",
    "        print(\"Feature 5 working\")"
   ]
  },
  {
   "cell_type": "code",
   "execution_count": 9,
   "id": "b5735d0b",
   "metadata": {},
   "outputs": [
    {
     "name": "stdout",
     "output_type": "stream",
     "text": [
      "Feature 4 working\n"
     ]
    }
   ],
   "source": [
    "c = C()\n",
    "c.feature4()"
   ]
  },
  {
   "cell_type": "code",
   "execution_count": 15,
   "id": "7f72ebef",
   "metadata": {},
   "outputs": [],
   "source": [
    "#Multiple inheritance\n",
    "class D(A,B):\n",
    "    def feature6(self):\n",
    "        print(\"Feature 6 working\")"
   ]
  },
  {
   "cell_type": "code",
   "execution_count": 14,
   "id": "cd683886",
   "metadata": {},
   "outputs": [
    {
     "name": "stdout",
     "output_type": "stream",
     "text": [
      "Feature 1 working\n",
      "Feature 2 working\n",
      "Feature 6 working\n"
     ]
    }
   ],
   "source": [
    "d = D()\n",
    "d.feature1()\n",
    "d.feature2()\n",
    "d.feature6()"
   ]
  },
  {
   "cell_type": "code",
   "execution_count": 16,
   "id": "61119ebf",
   "metadata": {},
   "outputs": [],
   "source": [
    "from abc import ABC, abstractmethod"
   ]
  },
  {
   "cell_type": "code",
   "execution_count": 19,
   "id": "ba51abba",
   "metadata": {},
   "outputs": [
    {
     "name": "stdout",
     "output_type": "stream",
     "text": [
      "153.86 cm2\n",
      "25 cm2\n",
      "24.0 cm2\n",
      "615.44 cm2\n"
     ]
    }
   ],
   "source": [
    "#Polymorphism \n",
    "\n",
    "class Shape:\n",
    "    \n",
    "    @abstractmethod   #cannot be instantiated on its own\n",
    "    def area(self):\n",
    "        pass\n",
    "\n",
    "class Circle(Shape):\n",
    "    def __init__(self, radius):\n",
    "        self.radius = radius\n",
    "        \n",
    "    def area(self):\n",
    "        return 3.14 * self.radius ** 2 \n",
    "    \n",
    "class Square(Shape):\n",
    "    def __init__(self, length):\n",
    "        self.length = length\n",
    "        \n",
    "    def area(self):\n",
    "        return self.length ** 2 \n",
    "        \n",
    "class Triangle(Shape):\n",
    "    def __init__(self, base, height):\n",
    "        self.base = base\n",
    "        self.height = height\n",
    "        \n",
    "    def area(self):\n",
    "        return 0.5 * self.base * self.height \n",
    "    \n",
    "class Pizza(Circle):\n",
    "    def __init__(self, topping, radius):\n",
    "        super().__init__(radius)\n",
    "        self.topping = topping\n",
    "    \n",
    "\n",
    "shapes = [Circle(7), Square(5), Triangle(6, 8), Pizza(\"meat\", 14)]\n",
    "\n",
    "for shape in shapes:\n",
    "    print(f\"{shape.area()} cm2\")"
   ]
  }
 ],
 "metadata": {
  "kernelspec": {
   "display_name": "Python 3",
   "language": "python",
   "name": "python3"
  },
  "language_info": {
   "codemirror_mode": {
    "name": "ipython",
    "version": 3
   },
   "file_extension": ".py",
   "mimetype": "text/x-python",
   "name": "python",
   "nbconvert_exporter": "python",
   "pygments_lexer": "ipython3",
   "version": "3.13.0"
  }
 },
 "nbformat": 4,
 "nbformat_minor": 5
}
