{
 "cells": [
  {
   "cell_type": "markdown",
   "id": "ea6450f1",
   "metadata": {},
   "source": [
    " Day 7: Functions           \n",
    " Learn function definition, parameters, return values        \n",
    " Write a program with multiple functions that solve specific tasks    "
   ]
  },
  {
   "cell_type": "code",
   "execution_count": null,
   "id": "327e6109",
   "metadata": {},
   "outputs": [
    {
     "name": "stdout",
     "output_type": "stream",
     "text": [
      "16\n"
     ]
    }
   ],
   "source": [
    "#A function to calculate square of 4\n",
    "def square():\n",
    "    number = 4**2\n",
    "    print(number)\n",
    "\n",
    "square()      #calling the function"
   ]
  },
  {
   "cell_type": "code",
   "execution_count": 5,
   "id": "9569998d",
   "metadata": {},
   "outputs": [
    {
     "name": "stdout",
     "output_type": "stream",
     "text": [
      "25\n"
     ]
    }
   ],
   "source": [
    "def square(number): #number is a parameter\n",
    "    squared_number = number **2\n",
    "    print(squared_number)\n",
    "\n",
    "square(5)"
   ]
  },
  {
   "cell_type": "markdown",
   "id": "0ad5b218",
   "metadata": {},
   "source": [
    "Parameter - when defining a function eg number in the above example.         \n",
    "Argurment- when calling a function eg square(5), in the example"
   ]
  },
  {
   "cell_type": "code",
   "execution_count": 11,
   "id": "c254f84d",
   "metadata": {},
   "outputs": [],
   "source": [
    "#Returning a value from a function and it's importance\n",
    "def square(number):\n",
    "    squared_number = number **2"
   ]
  },
  {
   "cell_type": "code",
   "execution_count": null,
   "id": "7164f2fd",
   "metadata": {},
   "outputs": [
    {
     "ename": "TypeError",
     "evalue": "unsupported operand type(s) for *: 'int' and 'NoneType'",
     "output_type": "error",
     "traceback": [
      "\u001b[31m---------------------------------------------------------------------------\u001b[39m",
      "\u001b[31mTypeError\u001b[39m                                 Traceback (most recent call last)",
      "\u001b[36mCell\u001b[39m\u001b[36m \u001b[39m\u001b[32mIn[8]\u001b[39m\u001b[32m, line 2\u001b[39m\n\u001b[32m      1\u001b[39m a = square(\u001b[32m6\u001b[39m)\n\u001b[32m----> \u001b[39m\u001b[32m2\u001b[39m \u001b[32;43m2\u001b[39;49m\u001b[43m \u001b[49m\u001b[43m*\u001b[49m\u001b[43m \u001b[49m\u001b[43ma\u001b[49m\n",
      "\u001b[31mTypeError\u001b[39m: unsupported operand type(s) for *: 'int' and 'NoneType'"
     ]
    }
   ],
   "source": [
    "a = square(6)\n",
    "2 * a "
   ]
  },
  {
   "cell_type": "code",
   "execution_count": 16,
   "id": "568860e6",
   "metadata": {},
   "outputs": [],
   "source": [
    "def square(number):\n",
    "    squared_number = number **2\n",
    "    return squared_number"
   ]
  },
  {
   "cell_type": "code",
   "execution_count": 17,
   "id": "d4c3359b",
   "metadata": {},
   "outputs": [
    {
     "data": {
      "text/plain": [
       "72"
      ]
     },
     "execution_count": 17,
     "metadata": {},
     "output_type": "execute_result"
    }
   ],
   "source": [
    "a = square(6)\n",
    "2 * a      #certain operators only work with the same data types, hence addition of return method to solve this"
   ]
  },
  {
   "cell_type": "markdown",
   "id": "5bc4421e",
   "metadata": {},
   "source": [
    "A function with multiple parameters and single value returned"
   ]
  },
  {
   "cell_type": "code",
   "execution_count": 14,
   "id": "968b111e",
   "metadata": {},
   "outputs": [
    {
     "data": {
      "text/plain": [
       "4"
      ]
     },
     "execution_count": 14,
     "metadata": {},
     "output_type": "execute_result"
    }
   ],
   "source": [
    "#function to calculate the power of any number\n",
    "def power(number1, number2):\n",
    "    result = number1 ** number2\n",
    "    return result\n",
    "\n",
    "power(2, 2)   #must be 2 argurments in order"
   ]
  },
  {
   "cell_type": "code",
   "execution_count": 20,
   "id": "ed030117",
   "metadata": {},
   "outputs": [
    {
     "data": {
      "text/plain": [
       "(8, 9)"
      ]
     },
     "execution_count": 20,
     "metadata": {},
     "output_type": "execute_result"
    }
   ],
   "source": [
    "def power(number1, number2):\n",
    "    value1 = number1 ** number2\n",
    "    value2 = number2 ** number1\n",
    "    return(value1, value2)\n",
    "\n",
    "a = power(2, 3)\n",
    "a"
   ]
  },
  {
   "cell_type": "code",
   "execution_count": 21,
   "id": "7656a0f8",
   "metadata": {},
   "outputs": [
    {
     "data": {
      "text/plain": [
       "tuple"
      ]
     },
     "execution_count": 21,
     "metadata": {},
     "output_type": "execute_result"
    }
   ],
   "source": [
    "type(a)"
   ]
  }
 ],
 "metadata": {
  "kernelspec": {
   "display_name": "Python 3",
   "language": "python",
   "name": "python3"
  },
  "language_info": {
   "codemirror_mode": {
    "name": "ipython",
    "version": 3
   },
   "file_extension": ".py",
   "mimetype": "text/x-python",
   "name": "python",
   "nbconvert_exporter": "python",
   "pygments_lexer": "ipython3",
   "version": "3.13.0"
  }
 },
 "nbformat": 4,
 "nbformat_minor": 5
}
