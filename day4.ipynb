{
 "cells": [
  {
   "cell_type": "markdown",
   "id": "4709b277",
   "metadata": {},
   "source": [
    " Day 4: Dictionaries and Sets          \n",
    " Learn dictionary creation, access, and methods          \n",
    " Write a program that stores and retrieves information using dictionaries"
   ]
  },
  {
   "cell_type": "code",
   "execution_count": 1,
   "id": "144a9cdb",
   "metadata": {},
   "outputs": [],
   "source": [
    "# Dictionaries - key value pairs, keys are unique and case sensitive\n",
    "phonebook = {'Wandia':'BBIT', 'Juma':'Education', 'Mwikali':'Aviation'}"
   ]
  },
  {
   "cell_type": "code",
   "execution_count": 2,
   "id": "5f18b7cd",
   "metadata": {},
   "outputs": [
    {
     "data": {
      "text/plain": [
       "dict_keys(['Wandia', 'Juma', 'Mwikali'])"
      ]
     },
     "execution_count": 2,
     "metadata": {},
     "output_type": "execute_result"
    }
   ],
   "source": [
    "phonebook.keys()"
   ]
  },
  {
   "cell_type": "code",
   "execution_count": 3,
   "id": "5dd1de3e",
   "metadata": {},
   "outputs": [
    {
     "data": {
      "text/plain": [
       "dict_values(['BBIT', 'Education', 'Aviation'])"
      ]
     },
     "execution_count": 3,
     "metadata": {},
     "output_type": "execute_result"
    }
   ],
   "source": [
    "phonebook.values()"
   ]
  },
  {
   "cell_type": "code",
   "execution_count": 4,
   "id": "8c1128b1",
   "metadata": {},
   "outputs": [
    {
     "data": {
      "text/plain": [
       "'Education'"
      ]
     },
     "execution_count": 4,
     "metadata": {},
     "output_type": "execute_result"
    }
   ],
   "source": [
    "phonebook.get('Juma')"
   ]
  },
  {
   "cell_type": "code",
   "execution_count": 5,
   "id": "9a400f6f",
   "metadata": {},
   "outputs": [
    {
     "data": {
      "text/plain": [
       "('Mwikali', 'Aviation')"
      ]
     },
     "execution_count": 5,
     "metadata": {},
     "output_type": "execute_result"
    }
   ],
   "source": [
    "phonebook.popitem()"
   ]
  },
  {
   "cell_type": "code",
   "execution_count": 6,
   "id": "81c5499e",
   "metadata": {},
   "outputs": [
    {
     "data": {
      "text/plain": [
       "{'Wandia': 'BBIT', 'Juma': 'Education'}"
      ]
     },
     "execution_count": 6,
     "metadata": {},
     "output_type": "execute_result"
    }
   ],
   "source": [
    "phonebook.copy()"
   ]
  },
  {
   "cell_type": "code",
   "execution_count": 7,
   "id": "f403a71b",
   "metadata": {},
   "outputs": [],
   "source": [
    "phonebook.clear()"
   ]
  },
  {
   "cell_type": "code",
   "execution_count": 8,
   "id": "1b02a8a7",
   "metadata": {},
   "outputs": [
    {
     "data": {
      "text/plain": [
       "{}"
      ]
     },
     "execution_count": 8,
     "metadata": {},
     "output_type": "execute_result"
    }
   ],
   "source": [
    "phonebook"
   ]
  },
  {
   "cell_type": "code",
   "execution_count": 22,
   "id": "555a3a83",
   "metadata": {},
   "outputs": [
    {
     "data": {
      "text/plain": [
       "('Student Info:', {'name': 'Patience', 'age': 22, 'course': 'Mathematics'})"
      ]
     },
     "execution_count": 22,
     "metadata": {},
     "output_type": "execute_result"
    }
   ],
   "source": [
    "# Dictionary to store student data\n",
    "students = {\n",
    "    \"1001\": {\"name\": \"Kioko\", \"age\": 20, \"course\": \"Computer Science\"},\n",
    "    \"1002\": {\"name\": \"Patience\", \"age\": 22, \"course\": \"Mathematics\"},\n",
    "    \"1003\": {\"name\": \"Mary\", \"age\": 21, \"course\": \"Physics\"}\n",
    "}\n",
    "\n",
    "# Retrieve student info using get (returns None if not found)\n",
    "student_id = input(\"Enter student ID: \")\n",
    "\"Student Info:\", students.get(student_id)"
   ]
  },
  {
   "cell_type": "code",
   "execution_count": null,
   "id": "32157bde",
   "metadata": {},
   "outputs": [
    {
     "data": {
      "text/plain": [
       "{1, 2, 3, 4, 5}"
      ]
     },
     "execution_count": 12,
     "metadata": {},
     "output_type": "execute_result"
    }
   ],
   "source": [
    "#Sets\n",
    "my_set = {1, 2, 3, 4, 5, True}  #Note that True has been removed because it is a duplicate of 1\n",
    "my_set"
   ]
  },
  {
   "cell_type": "code",
   "execution_count": 13,
   "id": "d2b29764",
   "metadata": {},
   "outputs": [],
   "source": [
    "my_set2 = {2, 3, 4, 5, 6, 7}"
   ]
  },
  {
   "cell_type": "code",
   "execution_count": null,
   "id": "2aead954",
   "metadata": {},
   "outputs": [
    {
     "data": {
      "text/plain": [
       "{1, 2, 3, 4, 5, 6, 7}"
      ]
     },
     "execution_count": 14,
     "metadata": {},
     "output_type": "execute_result"
    }
   ],
   "source": [
    "my_set.union(my_set2)    #Union"
   ]
  },
  {
   "cell_type": "code",
   "execution_count": 16,
   "id": "456fdb8e",
   "metadata": {},
   "outputs": [
    {
     "data": {
      "text/plain": [
       "{2, 3, 4, 5}"
      ]
     },
     "execution_count": 16,
     "metadata": {},
     "output_type": "execute_result"
    }
   ],
   "source": [
    "my_set.intersection(my_set2)   #Intersection"
   ]
  },
  {
   "cell_type": "code",
   "execution_count": 17,
   "id": "fd190eaf",
   "metadata": {},
   "outputs": [
    {
     "data": {
      "text/plain": [
       "{1}"
      ]
     },
     "execution_count": 17,
     "metadata": {},
     "output_type": "execute_result"
    }
   ],
   "source": [
    "my_set.difference(my_set2)"
   ]
  },
  {
   "cell_type": "code",
   "execution_count": null,
   "id": "9ca48ec1",
   "metadata": {},
   "outputs": [
    {
     "data": {
      "text/plain": [
       "{1, 6, 7}"
      ]
     },
     "execution_count": 18,
     "metadata": {},
     "output_type": "execute_result"
    }
   ],
   "source": [
    "my_set.symmetric_difference(my_set2) #Returns elements that are in either of the two sets but not in both."
   ]
  },
  {
   "cell_type": "code",
   "execution_count": 21,
   "id": "b0abe18d",
   "metadata": {},
   "outputs": [
    {
     "data": {
      "text/plain": [
       "{1, 4, 9, 16, 25}"
      ]
     },
     "execution_count": 21,
     "metadata": {},
     "output_type": "execute_result"
    }
   ],
   "source": [
    "# Set comprehensions\n",
    "squared_numbers = {x** 2 for x in my_set}\n",
    "squared_numbers"
   ]
  }
 ],
 "metadata": {
  "kernelspec": {
   "display_name": "Python 3",
   "language": "python",
   "name": "python3"
  },
  "language_info": {
   "codemirror_mode": {
    "name": "ipython",
    "version": 3
   },
   "file_extension": ".py",
   "mimetype": "text/x-python",
   "name": "python",
   "nbconvert_exporter": "python",
   "pygments_lexer": "ipython3",
   "version": "3.13.0"
  }
 },
 "nbformat": 4,
 "nbformat_minor": 5
}
