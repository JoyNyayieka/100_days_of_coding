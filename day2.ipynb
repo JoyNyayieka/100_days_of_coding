{
 "cells": [
  {
   "cell_type": "markdown",
   "id": "98100598",
   "metadata": {},
   "source": [
    "Day 2: Strings and String Manipulation                \n",
    "Learn string operations, methods, and formatting                     \n",
    "Write a program that manipulates and formats strings to create a personalized message"
   ]
  },
  {
   "cell_type": "code",
   "execution_count": 12,
   "id": "5e49c506",
   "metadata": {},
   "outputs": [
    {
     "data": {
      "text/plain": [
       "'K'"
      ]
     },
     "execution_count": 12,
     "metadata": {},
     "output_type": "execute_result"
    }
   ],
   "source": [
    "country = 'Kenya'\n",
    "length = len(country)\n",
    "firstChar = country[0]\n",
    "firstChar"
   ]
  },
  {
   "cell_type": "code",
   "execution_count": 11,
   "id": "bbf2f94b",
   "metadata": {},
   "outputs": [
    {
     "data": {
      "text/plain": [
       "5"
      ]
     },
     "execution_count": 11,
     "metadata": {},
     "output_type": "execute_result"
    }
   ],
   "source": [
    "length"
   ]
  },
  {
   "cell_type": "code",
   "execution_count": 18,
   "id": "f5b4d963",
   "metadata": {},
   "outputs": [
    {
     "data": {
      "text/plain": [
       "1"
      ]
     },
     "execution_count": 18,
     "metadata": {},
     "output_type": "execute_result"
    }
   ],
   "source": [
    "text = \"She sells sea shells in the seashore\"\n",
    "text.count(\"sells\")"
   ]
  },
  {
   "cell_type": "code",
   "execution_count": 20,
   "id": "ce1ab1da",
   "metadata": {},
   "outputs": [
    {
     "ename": "TypeError",
     "evalue": "'str' object does not support item assignment",
     "output_type": "error",
     "traceback": [
      "\u001b[31m---------------------------------------------------------------------------\u001b[39m",
      "\u001b[31mTypeError\u001b[39m                                 Traceback (most recent call last)",
      "\u001b[36mCell\u001b[39m\u001b[36m \u001b[39m\u001b[32mIn[20]\u001b[39m\u001b[32m, line 3\u001b[39m\n\u001b[32m      1\u001b[39m \u001b[38;5;66;03m#Strings are immutable\u001b[39;00m\n\u001b[32m      2\u001b[39m name = \u001b[33m'\u001b[39m\u001b[33mCarolina\u001b[39m\u001b[33m'\u001b[39m\n\u001b[32m----> \u001b[39m\u001b[32m3\u001b[39m \u001b[43mname\u001b[49m\u001b[43m[\u001b[49m\u001b[32;43m0\u001b[39;49m\u001b[43m]\u001b[49m = \u001b[33m'\u001b[39m\u001b[33mT\u001b[39m\u001b[33m'\u001b[39m\n",
      "\u001b[31mTypeError\u001b[39m: 'str' object does not support item assignment"
     ]
    }
   ],
   "source": [
    "#Strings are immutable\n",
    "name = 'Carolina'\n",
    "name[0] = 'T'"
   ]
  },
  {
   "cell_type": "code",
   "execution_count": 3,
   "id": "21c1bbc4",
   "metadata": {},
   "outputs": [
    {
     "data": {
      "text/plain": [
       "'Hello Njeri,28'"
      ]
     },
     "execution_count": 3,
     "metadata": {},
     "output_type": "execute_result"
    }
   ],
   "source": [
    "#Concatenation\n",
    "name = 'Njeri'\n",
    "age = 28\n",
    "message = 'Hello ' + name + ',' + str(age)\n",
    "message"
   ]
  },
  {
   "cell_type": "code",
   "execution_count": 5,
   "id": "c593d579",
   "metadata": {},
   "outputs": [
    {
     "data": {
      "text/plain": [
       "'Student: Otieno CS'"
      ]
     },
     "execution_count": 5,
     "metadata": {},
     "output_type": "execute_result"
    }
   ],
   "source": [
    "#Format function \n",
    "name = 'Otieno'\n",
    "course = 'CS'\n",
    "notification = 'Student: {} {}'.format(name, course)\n",
    "notification"
   ]
  },
  {
   "cell_type": "code",
   "execution_count": 7,
   "id": "eb8a8cf1",
   "metadata": {},
   "outputs": [
    {
     "data": {
      "text/plain": [
       "'I have 5 kgs of Maize for sale.'"
      ]
     },
     "execution_count": 7,
     "metadata": {},
     "output_type": "execute_result"
    }
   ],
   "source": [
    "#F-string\n",
    "food = 'Maize'\n",
    "kgs = 5\n",
    "message_1 = f'I have {kgs} kgs of {food} for sale.'\n",
    "message_1"
   ]
  }
 ],
 "metadata": {
  "kernelspec": {
   "display_name": "Python 3",
   "language": "python",
   "name": "python3"
  },
  "language_info": {
   "codemirror_mode": {
    "name": "ipython",
    "version": 3
   },
   "file_extension": ".py",
   "mimetype": "text/x-python",
   "name": "python",
   "nbconvert_exporter": "python",
   "pygments_lexer": "ipython3",
   "version": "3.13.0"
  }
 },
 "nbformat": 4,
 "nbformat_minor": 5
}
