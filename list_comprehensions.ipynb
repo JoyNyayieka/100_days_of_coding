{
 "cells": [
  {
   "cell_type": "markdown",
   "id": "96f5e26f",
   "metadata": {},
   "source": [
    "List Comprehensions   \n",
    "Learn efficient list creation with comprhensions  \n",
    "Write a program that uses list comprehensions to tranform data"
   ]
  },
  {
   "cell_type": "code",
   "execution_count": 5,
   "id": "555f92b1",
   "metadata": {},
   "outputs": [
    {
     "data": {
      "text/plain": [
       "[1, 4, 9, 16, 25, 36]"
      ]
     },
     "execution_count": 5,
     "metadata": {},
     "output_type": "execute_result"
    }
   ],
   "source": [
    "#New list with squared numbers\n",
    "numbers = [1, 2, 3, 4, 5, 6]\n",
    "\n",
    "squared_number = [x**2 for x in numbers]\n",
    "\n",
    "squared_number"
   ]
  },
  {
   "cell_type": "code",
   "execution_count": 10,
   "id": "898ad821",
   "metadata": {},
   "outputs": [
    {
     "data": {
      "text/plain": [
       "[0, 2, 4, 6, 8]"
      ]
     },
     "execution_count": 10,
     "metadata": {},
     "output_type": "execute_result"
    }
   ],
   "source": [
    "#List with even numbers\n",
    "evens = [x for x in range(10) if x%2==0]\n",
    "\n",
    "evens"
   ]
  },
  {
   "cell_type": "code",
   "execution_count": null,
   "id": "94b4e234",
   "metadata": {},
   "outputs": [
    {
     "data": {
      "text/plain": [
       "[0, 1, 2, 3, 4, 5, 6, 7, 8, 9]"
      ]
     },
     "execution_count": 9,
     "metadata": {},
     "output_type": "execute_result"
    }
   ],
   "source": [
    "#Creates a list from 0 to 9\n",
    "a = [i for i in range(10)]\n",
    "\n",
    "a"
   ]
  },
  {
   "cell_type": "code",
   "execution_count": 11,
   "id": "cac7b037",
   "metadata": {},
   "outputs": [
    {
     "data": {
      "text/plain": [
       "['a', 'e']"
      ]
     },
     "execution_count": 11,
     "metadata": {},
     "output_type": "execute_result"
    }
   ],
   "source": [
    "#strings\n",
    "word = \"Table\"\n",
    "vowels = \"aeiou\"\n",
    "\n",
    "# find vowel in the string \n",
    "result = [char for char in word if char in vowels]\n",
    "\n",
    "result"
   ]
  },
  {
   "cell_type": "code",
   "execution_count": 13,
   "id": "0475e645",
   "metadata": {},
   "outputs": [
    {
     "data": {
      "text/plain": [
       "[50.0, 68.0, 91.4, 23.0, 95.0]"
      ]
     },
     "execution_count": 13,
     "metadata": {},
     "output_type": "execute_result"
    }
   ],
   "source": [
    "#Converting Celsius to Fahrenheit\n",
    "\n",
    "celsius = [10, 20, 33, -5, 35]\n",
    "\n",
    "fahrenheit = [(x*1.8)+32 for x in celsius]\n",
    "\n",
    "fahrenheit"
   ]
  }
 ],
 "metadata": {
  "kernelspec": {
   "display_name": "Python 3",
   "language": "python",
   "name": "python3"
  },
  "language_info": {
   "codemirror_mode": {
    "name": "ipython",
    "version": 3
   },
   "file_extension": ".py",
   "mimetype": "text/x-python",
   "name": "python",
   "nbconvert_exporter": "python",
   "pygments_lexer": "ipython3",
   "version": "3.13.0"
  }
 },
 "nbformat": 4,
 "nbformat_minor": 5
}
