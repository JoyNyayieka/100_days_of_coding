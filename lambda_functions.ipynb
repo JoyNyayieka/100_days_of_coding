{
 "cells": [
  {
   "cell_type": "markdown",
   "id": "6021efcf",
   "metadata": {},
   "source": [
    "Lambda Functions   \n",
    "Learn anonymous functions and their uses  \n",
    "Write a program that uses lambda functions for data filtering and transfromation   "
   ]
  },
  {
   "cell_type": "code",
   "execution_count": null,
   "id": "08211776",
   "metadata": {},
   "outputs": [],
   "source": [
    "def add(a, b):      #normal function\n",
    "    result = a + b\n",
    "    return result"
   ]
  },
  {
   "cell_type": "code",
   "execution_count": 2,
   "id": "422fa69b",
   "metadata": {},
   "outputs": [
    {
     "data": {
      "text/plain": [
       "20"
      ]
     },
     "execution_count": 2,
     "metadata": {},
     "output_type": "execute_result"
    }
   ],
   "source": [
    "add(10, 10)"
   ]
  },
  {
   "cell_type": "code",
   "execution_count": null,
   "id": "83e1e76a",
   "metadata": {},
   "outputs": [
    {
     "data": {
      "text/plain": [
       "20"
      ]
     },
     "execution_count": 3,
     "metadata": {},
     "output_type": "execute_result"
    }
   ],
   "source": [
    "add = lambda a,b : a + b    #lambda function\n",
    "add(10, 10)"
   ]
  },
  {
   "cell_type": "code",
   "execution_count": 4,
   "id": "2b9585aa",
   "metadata": {},
   "outputs": [
    {
     "name": "stdout",
     "output_type": "stream",
     "text": [
      "150\n"
     ]
    }
   ],
   "source": [
    "add = lambda x : x + 100\n",
    "print(add(50))"
   ]
  },
  {
   "cell_type": "code",
   "execution_count": 6,
   "id": "7ccbda87",
   "metadata": {},
   "outputs": [
    {
     "data": {
      "text/plain": [
       "75"
      ]
     },
     "execution_count": 6,
     "metadata": {},
     "output_type": "execute_result"
    }
   ],
   "source": [
    "(lambda a, b : a * b)(15, 5)   #immediately invoked function expression- IIFE"
   ]
  },
  {
   "cell_type": "code",
   "execution_count": 7,
   "id": "af62ef2b",
   "metadata": {},
   "outputs": [
    {
     "name": "stdout",
     "output_type": "stream",
     "text": [
      "100\n"
     ]
    }
   ],
   "source": [
    "product = lambda x, y, z : x*y*z\n",
    "print(product(y = 10, x = 2, z = 5))"
   ]
  },
  {
   "cell_type": "code",
   "execution_count": 8,
   "id": "a16fa0ac",
   "metadata": {},
   "outputs": [
    {
     "name": "stdout",
     "output_type": "stream",
     "text": [
      "20\n"
     ]
    }
   ],
   "source": [
    "add = lambda x, y = 15, z = 2 : x+y+z\n",
    "print(add(3))"
   ]
  },
  {
   "cell_type": "code",
   "execution_count": 9,
   "id": "df3591fa",
   "metadata": {},
   "outputs": [
    {
     "name": "stdout",
     "output_type": "stream",
     "text": [
      "85\n"
     ]
    }
   ],
   "source": [
    "addition = lambda *args : sum(args)\n",
    "print(addition(10, 20, 20, 35))"
   ]
  },
  {
   "cell_type": "code",
   "execution_count": 12,
   "id": "df02c548",
   "metadata": {},
   "outputs": [
    {
     "data": {
      "text/plain": [
       "420"
      ]
     },
     "execution_count": 12,
     "metadata": {},
     "output_type": "execute_result"
    }
   ],
   "source": [
    "higher_ord_fun = lambda x, fun : x + fun(x)   #Higher order functions - take or return 1 or 2 functions as arg\n",
    "higher_ord_fun(20, lambda x: x*x)"
   ]
  },
  {
   "cell_type": "code",
   "execution_count": 14,
   "id": "26f1d4d8",
   "metadata": {},
   "outputs": [
    {
     "data": {
      "text/plain": [
       "'even'"
      ]
     },
     "execution_count": 14,
     "metadata": {},
     "output_type": "execute_result"
    }
   ],
   "source": [
    "(lambda x: (x % 2 and 'odd' or 'even'))(30)"
   ]
  },
  {
   "cell_type": "code",
   "execution_count": 17,
   "id": "2fc45643",
   "metadata": {},
   "outputs": [
    {
     "name": "stdout",
     "output_type": "stream",
     "text": [
      "True\n"
     ]
    }
   ],
   "source": [
    "sub_string = lambda string : string in \"Today is Day 12 of 100\"\n",
    "print(sub_string('Today'))"
   ]
  },
  {
   "cell_type": "code",
   "execution_count": 26,
   "id": "80be81b1",
   "metadata": {},
   "outputs": [
    {
     "name": "stdout",
     "output_type": "stream",
     "text": [
      "[40, 56, 33, 70]\n"
     ]
    }
   ],
   "source": [
    "num = [10, 40, 56, 27, 33, 15, 70]         #Filtering\n",
    "\n",
    "greater = list(filter(lambda x : x>30, num))\n",
    "print(greater)"
   ]
  },
  {
   "cell_type": "code",
   "execution_count": 27,
   "id": "fadd1962",
   "metadata": {},
   "outputs": [
    {
     "name": "stdout",
     "output_type": "stream",
     "text": [
      "[4, 12, 24]\n"
     ]
    }
   ],
   "source": [
    "num1 = [4, 10, 12, 15, 22, 24, 27]\n",
    "\n",
    "factors = list(filter(lambda x : x%4==0, num1))\n",
    "print(factors)"
   ]
  },
  {
   "cell_type": "code",
   "execution_count": 28,
   "id": "70456f07",
   "metadata": {},
   "outputs": [
    {
     "name": "stdout",
     "output_type": "stream",
     "text": [
      "[20, 40, 60, 80, 100]\n"
     ]
    }
   ],
   "source": [
    "num2 = [10, 20, 30, 40, 50]        #Transforming\n",
    "\n",
    "double_the_num = list(map(lambda x: x*2, num2))\n",
    "print(double_the_num)"
   ]
  },
  {
   "cell_type": "code",
   "execution_count": 29,
   "id": "acb17c23",
   "metadata": {},
   "outputs": [
    {
     "name": "stdout",
     "output_type": "stream",
     "text": [
      "[1, 8, 27, 64, 125]\n"
     ]
    }
   ],
   "source": [
    "list3 = [1, 2, 3, 4, 5]\n",
    "\n",
    "cube = list(map(lambda x: x**3, list3))\n",
    "print(cube)"
   ]
  },
  {
   "cell_type": "code",
   "execution_count": 30,
   "id": "c5e8187e",
   "metadata": {},
   "outputs": [],
   "source": [
    "from functools import reduce"
   ]
  },
  {
   "cell_type": "code",
   "execution_count": null,
   "id": "aa5bfeab",
   "metadata": {},
   "outputs": [
    {
     "name": "stdout",
     "output_type": "stream",
     "text": [
      "15\n"
     ]
    }
   ],
   "source": [
    "list4 = [1, 2, 3, 4, 5]\n",
    "sum = reduce((lambda x, y: x+y), list4)   #applies to all items in a list\n",
    "print(sum)"
   ]
  },
  {
   "cell_type": "code",
   "execution_count": 32,
   "id": "bedbd3d2",
   "metadata": {},
   "outputs": [
    {
     "data": {
      "text/plain": [
       "11"
      ]
     },
     "execution_count": 32,
     "metadata": {},
     "output_type": "execute_result"
    }
   ],
   "source": [
    "#lambda function in a user defined function\n",
    "def quadratic(a, b, c):\n",
    "    return lambda x : a*x**2 + b*x + c\n",
    "f = quadratic(2, 5, 4)\n",
    "f(1)"
   ]
  }
 ],
 "metadata": {
  "kernelspec": {
   "display_name": ".venv",
   "language": "python",
   "name": "python3"
  },
  "language_info": {
   "codemirror_mode": {
    "name": "ipython",
    "version": 3
   },
   "file_extension": ".py",
   "mimetype": "text/x-python",
   "name": "python",
   "nbconvert_exporter": "python",
   "pygments_lexer": "ipython3",
   "version": "3.13.0"
  }
 },
 "nbformat": 4,
 "nbformat_minor": 5
}
